{
 "cells": [
  {
   "cell_type": "code",
   "execution_count": 87,
   "metadata": {},
   "outputs": [
    {
     "data": {
      "text/plain": [
       "Text(0, 0.5, '$\\\\pi(x)$')"
      ]
     },
     "execution_count": 87,
     "metadata": {},
     "output_type": "execute_result"
    },
    {
     "data": {
      "image/png": "[encoded data removed]",
      "text/plain": [
       "<Figure size 432x288 with 1 Axes>"
      ]
     },
     "metadata": {
      "needs_background": "light"
     },
     "output_type": "display_data"
    }
   ],
   "source": [
    "import numpy as np\n",
    "import matplotlib.pyplot as plt \n",
    "\n",
    "N = 15\n",
    "b = 0.045\n",
    "positions = []\n",
    "\n",
    "#for i in range(1000):\n",
    "position = np.random.uniform(0, 2 - 2 * N * b, (20000, N))\n",
    "position = np.sort(position)\n",
    "#print(position)\n",
    "position = position + (np.array(range(1, N+1) )* 2 - 1) * b\n",
    "#    np.concatenate([positions, position])\n",
    "\n",
    "position = position.flatten()\n",
    "plt.hist(position, bins=2000, density=True)\n",
    "\n",
    "plt.axhline(y= 1/(2-2*N*b))\n",
    "plt.xlabel('x')\n",
    "plt.ylabel('$\\pi(x)$')"
   ]
  },
  {
   "cell_type": "code",
   "execution_count": 91,
   "metadata": {},
   "outputs": [
    {
     "data": {
      "text/plain": [
       "Text(0, 0.5, '$\\\\pi(x)$')"
      ]
     },
     "execution_count": 91,
     "metadata": {},
     "output_type": "execute_result"
    },
    {
     "data": {
      "image/png": "[encoded data removed]",
      "text/plain": [
       "<Figure size 432x288 with 1 Axes>"
      ]
     },
     "metadata": {
      "needs_background": "light"
     },
     "output_type": "display_data"
    }
   ],
   "source": [
    "N = 50\n",
    "b = 0.01\n",
    "positions = []\n",
    "\n",
    "#for i in range(1000):\n",
    "position = np.random.uniform(0, 2 - 2 * N * b, (20000, N))\n",
    "position = np.sort(position)\n",
    "#print(position)\n",
    "position = position + (np.array(range(1, N+1) )* 2 - 1) * b\n",
    "#    np.concatenate([positions, position])\n",
    "\n",
    "position = position.flatten()\n",
    "plt.hist(position, bins=2000, density=True)\n",
    "\n",
    "plt.axhline(y= 1/(2-2*N*b))\n",
    "plt.xlabel('x')\n",
    "plt.ylabel('$\\pi(x)$')"
   ]
  },
  {
   "cell_type": "code",
   "execution_count": 26,
   "metadata": {},
   "outputs": [
    {
     "data": {
      "text/plain": [
       "[]"
      ]
     },
     "execution_count": 26,
     "metadata": {},
     "output_type": "execute_result"
    }
   ],
   "source": [
    "positions"
   ]
  },
  {
   "cell_type": "code",
   "execution_count": null,
   "metadata": {},
   "outputs": [],
   "source": []
  }
 ],
 "metadata": {
  "kernelspec": {
   "display_name": "Python 3",
   "language": "python",
   "name": "python3"
  },
  "language_info": {
   "codemirror_mode": {
    "name": "ipython",
    "version": 3
   },
   "file_extension": ".py",
   "mimetype": "text/x-python",
   "name": "python",
   "nbconvert_exporter": "python",
   "pygments_lexer": "ipython3",
   "version": "3.6.9"
  }
 },
 "nbformat": 4,
 "nbformat_minor": 2
}
